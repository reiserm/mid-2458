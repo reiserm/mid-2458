{
 "cells": [
  {
   "cell_type": "markdown",
   "metadata": {},
   "source": [
    "**Packages To Load At the Beginning**"
   ]
  },
  {
   "cell_type": "code",
   "execution_count": 2,
   "metadata": {
    "ExecuteTime": {
     "end_time": "2019-08-17T08:25:50.491141Z",
     "start_time": "2019-08-17T08:25:48.209806Z"
    },
    "init_cell": true
   },
   "outputs": [
    {
     "name": "stdout",
     "output_type": "stream",
     "text": [
      "Using matplotlib backend: agg\n",
      "Populating the interactive namespace from numpy and matplotlib\n",
      "The autoreload extension is already loaded. To reload it, use:\n",
      "  %reload_ext autoreload\n"
     ]
    }
   ],
   "source": [
    "# lines starting with '%' are notebook magic functions\n",
    "# %matplotlib notebook\n",
    "%pylab\n",
    "%matplotlib inline\n",
    "%load_ext autoreload\n",
    "%autoreload 2\n",
    "%config InlineBackend.figure_format='retina'\n",
    "\n",
    "# standard python packages\n",
    "import numpy as np\n",
    "import modin.pandas as pd\n",
    "import scipy.integrate as integrate\n",
    "from scipy.stats import gamma as gammafunc\n",
    "from scipy.special import gamma\n",
    "from scipy.stats import norm\n",
    "from time import time\n",
    "import pickle\n",
    "\n",
    "# main analysis software can be installed by: pip install Xana\n",
    "from Xana import Xana\n",
    "from Xana.Xplot.niceplot import niceplot\n",
    "\n",
    "# reading AGIPD data provided by XFEL\n",
    "from extra_data import RunDirectory, stack_detector_data, open_run\n",
    "from extra_geom import AGIPD_1MGeometry\n",
    "\n",
    "# for plotting\n",
    "import matplotlib as mpl\n",
    "from matplotlib import pyplot as plt\n",
    "from matplotlib import patches\n",
    "from matplotlib.colors import LogNorm\n",
    "from matplotlib.collections import PatchCollection\n",
    "from mpl_toolkits.axes_grid1 import make_axes_locatable\n",
    "import seaborn as sns\n",
    "\n",
    "# DASK\n",
    "import dask.array as da\n",
    "from dask.distributed import Client, progress\n",
    "from dask_jobqueue import SLURMCluster"
   ]
  },
  {
   "cell_type": "code",
   "execution_count": 3,
   "metadata": {},
   "outputs": [],
   "source": [
    "def module2asics(data, reverse=False):\n",
    "    nrows = ncols = 64\n",
    "    if data.ndim == 3:\n",
    "        if not reverse:\n",
    "            return(data.reshape(-1, 8, nrows, 2, ncols).swapaxes(2,3).reshape(-1, 16, nrows, ncols))\n",
    "        else: \n",
    "            return(data.reshape(-1, 8, 2, nrows, ncols).swapaxes(2,3).reshape(-1,512,128))\n",
    "    elif data.ndim == 2:\n",
    "        if not reverse:\n",
    "            return(data.reshape(8, nrows, 2, ncols).swapaxes(1,2).reshape(16, nrows, ncols))\n",
    "        else: \n",
    "            return(data.reshape(8, 2, nrows, ncols).swapaxes(1,2).reshape(512,128))\n",
    "\n",
    "def commonmode_module(module):\n",
    "    asics = module2asics(module)\n",
    "    for asic in asics:\n",
    "        asic -= np.nanmedian(asic)\n",
    "    return module2asics(asics, reverse=True)"
   ]
  },
  {
   "cell_type": "markdown",
   "metadata": {},
   "source": [
    "**some helper functions not implemented in Xana, yet**"
   ]
  },
  {
   "cell_type": "code",
   "execution_count": 4,
   "metadata": {},
   "outputs": [],
   "source": [
    "tmp = pickle.load(open(\"./rois_01.pkl\", 'rb'))\n",
    "ROIS_2D = tmp['rois_2d']\n",
    "ROIS_3D = tmp['rois_3d']\n",
    "del tmp\n",
    "\n",
    "def get_module_pixel(ROIS_3D):\n",
    "    rois = []\n",
    "    modules = []\n",
    "    nrois = len(ROIS_3D)\n",
    "    for i in range(16):\n",
    "        rois.append([])\n",
    "        for j in range(nrois):\n",
    "            ind = np.where(ROIS_3D[j][0]==i)[0]\n",
    "            if ind.size > 0:\n",
    "                rois[i].append([ROIS_3D[j][k][ind] for k in range(1,3)])\n",
    "                modules.append(i)\n",
    "       \n",
    "    modules = np.unique(modules)\n",
    "    return modules, rois\n",
    "\n",
    "modules, module_pixels = get_module_pixel(ROIS_3D)"
   ]
  },
  {
   "cell_type": "markdown",
   "metadata": {},
   "source": [
    "## Select a Run"
   ]
  },
  {
   "cell_type": "markdown",
   "metadata": {},
   "source": [
    "Load processed or raw data"
   ]
  },
  {
   "cell_type": "code",
   "execution_count": 5,
   "metadata": {},
   "outputs": [],
   "source": [
    "mask = ~np.load(\"/gpfs/exfel/exp/MID/202001/p002458/scratch/masks/mask_cryo.npy\")"
   ]
  },
  {
   "cell_type": "code",
   "execution_count": 6,
   "metadata": {},
   "outputs": [
    {
     "name": "stdout",
     "output_type": "stream",
     "text": [
      "# of trains:    1435\n",
      "Duration:       0:02:23.5\n",
      "First train ID: 541834019\n",
      "Last train ID:  541835453\n",
      "\n",
      "16 detector modules (MID_DET_AGIPD1M-1)\n",
      "  e.g. module MID_DET_AGIPD1M-1 0 : 512 x 128 pixels\n",
      "  MID_DET_AGIPD1M-1/DET/0CH0:xtdf\n",
      "  100 frames per train, up to 143500 frames total\n",
      "\n",
      "1 instrument sources (excluding detectors):\n",
      "  - SA2_XTD1_XGM/XGM/DOOCS:output\n",
      "\n",
      "13 control sources:\n",
      "  - MID_DET_AGIPD1M/CC/MON_0\n",
      "  - MID_EXP_AGIPD1M/GAUGE/PG1\n",
      "  - MID_EXP_AGIPD1M/PSC/HV\n",
      "  - MID_EXP_AGIPD1M/TSENS/H1_T_EXTHOUS\n",
      "  - MID_EXP_AGIPD1M/TSENS/H2_T_EXTHOUS\n",
      "  - MID_EXP_AGIPD1M/TSENS/Q1_T_BLOCK\n",
      "  - MID_EXP_AGIPD1M/TSENS/Q2_T_BLOCK\n",
      "  - MID_EXP_AGIPD1M/TSENS/Q3_T_BLOCK\n",
      "  - MID_EXP_AGIPD1M/TSENS/Q4_T_BLOCK\n",
      "  - MID_EXP_AGIPD1M1/CTRL/MC1\n",
      "  - MID_EXP_AGIPD1M1/CTRL/MC2\n",
      "  - MID_EXP_SYS/TSYS/UTC-2-S4\n",
      "  - SA2_XTD1_XGM/XGM/DOOCS\n",
      "\n"
     ]
    }
   ],
   "source": [
    "run = RunDirectory('/gpfs/exfel/exp/MID/202001/p002458/scratch/example_data/r0522/')\n",
    "run.info()"
   ]
  },
  {
   "cell_type": "markdown",
   "metadata": {},
   "source": [
    "# Setup Dask Cluster"
   ]
  },
  {
   "cell_type": "code",
   "execution_count": 23,
   "metadata": {},
   "outputs": [
    {
     "data": {
      "application/vnd.jupyter.widget-view+json": {
       "model_id": "0d39b6371aab43fab4947acb68c6a20b",
       "version_major": 2,
       "version_minor": 0
      },
      "text/plain": [
       "VBox(children=(HTML(value='<h2>SLURMCluster</h2>'), HBox(children=(HTML(value='\\n<div>\\n  <style scoped>\\n    …"
      ]
     },
     "metadata": {},
     "output_type": "display_data"
    }
   ],
   "source": [
    "partition = 'exfel'  # For EuXFEL staff\n",
    "\n",
    "cluster = SLURMCluster(\n",
    "    queue=partition,\n",
    "    # Resources per SLURM job (per node, the way SLURM is configured on Maxwell)\n",
    "    # processes=16 runs 16 Dask workers in a job, so each worker has 1 core & 32 GB RAM.\n",
    "    processes=16, cores=16, memory='512GB',\n",
    "    log_directory='./dask_tmp/',\n",
    "    local_directory='./dask_tmp/',\n",
    ")\n",
    "\n",
    "# Get a notbook widget showing the cluster state\n",
    "cluster"
   ]
  },
  {
   "cell_type": "code",
   "execution_count": 25,
   "metadata": {},
   "outputs": [],
   "source": [
    "SLURMCluster?"
   ]
  },
  {
   "cell_type": "code",
   "execution_count": 225,
   "metadata": {},
   "outputs": [],
   "source": [
    "# Submit 2 SLURM jobs, for 32 Dask workers\n",
    "cluster.scale(32)"
   ]
  },
  {
   "cell_type": "code",
   "execution_count": 9,
   "metadata": {},
   "outputs": [
    {
     "name": "stdout",
     "output_type": "stream",
     "text": [
      "Created dask client: <Client: 'tcp://131.169.182.129:33501' processes=32 threads=32, memory=1.02 TB>\n"
     ]
    }
   ],
   "source": [
    "client = Client(cluster)\n",
    "print(\"Created dask client:\", client)"
   ]
  },
  {
   "cell_type": "code",
   "execution_count": null,
   "metadata": {},
   "outputs": [],
   "source": [
    "speckle_contrast = var(pix)/mean(pix)**2\n",
    "average_intensity\n",
    "variance\n",
    "speckle size "
   ]
  },
  {
   "cell_type": "code",
   "execution_count": 36,
   "metadata": {
    "scrolled": true
   },
   "outputs": [
    {
     "data": {
      "text/html": [
       "<table>\n",
       "<tr>\n",
       "<td>\n",
       "<table>\n",
       "  <thead>\n",
       "    <tr><td> </td><th> Array </th><th> Chunk </th></tr>\n",
       "  </thead>\n",
       "  <tbody>\n",
       "    <tr><th> Bytes </th><td> 37.57 GB </td> <td> 2.04 GB </td></tr>\n",
       "    <tr><th> Shape </th><td> (1433, 100, 512, 128) </td> <td> (78, 100, 512, 128) </td></tr>\n",
       "    <tr><th> Count </th><td> 108 Tasks </td><td> 22 Chunks </td></tr>\n",
       "    <tr><th> Type </th><td> float32 </td><td> numpy.ndarray </td></tr>\n",
       "  </tbody>\n",
       "</table>\n",
       "</td>\n",
       "<td>\n",
       "<svg width=\"489\" height=\"115\" style=\"stroke:rgb(0,0,0);stroke-width:1\" >\n",
       "\n",
       "  <!-- Horizontal lines -->\n",
       "  <line x1=\"0\" y1=\"0\" x2=\"120\" y2=\"0\" style=\"stroke-width:2\" />\n",
       "  <line x1=\"0\" y1=\"25\" x2=\"120\" y2=\"25\" style=\"stroke-width:2\" />\n",
       "\n",
       "  <!-- Vertical lines -->\n",
       "  <line x1=\"0\" y1=\"0\" x2=\"0\" y2=\"25\" style=\"stroke-width:2\" />\n",
       "  <line x1=\"5\" y1=\"0\" x2=\"5\" y2=\"25\" />\n",
       "  <line x1=\"10\" y1=\"0\" x2=\"10\" y2=\"25\" />\n",
       "  <line x1=\"15\" y1=\"0\" x2=\"15\" y2=\"25\" />\n",
       "  <line x1=\"21\" y1=\"0\" x2=\"21\" y2=\"25\" />\n",
       "  <line x1=\"26\" y1=\"0\" x2=\"26\" y2=\"25\" />\n",
       "  <line x1=\"32\" y1=\"0\" x2=\"32\" y2=\"25\" />\n",
       "  <line x1=\"37\" y1=\"0\" x2=\"37\" y2=\"25\" />\n",
       "  <line x1=\"42\" y1=\"0\" x2=\"42\" y2=\"25\" />\n",
       "  <line x1=\"48\" y1=\"0\" x2=\"48\" y2=\"25\" />\n",
       "  <line x1=\"53\" y1=\"0\" x2=\"53\" y2=\"25\" />\n",
       "  <line x1=\"58\" y1=\"0\" x2=\"58\" y2=\"25\" />\n",
       "  <line x1=\"64\" y1=\"0\" x2=\"64\" y2=\"25\" />\n",
       "  <line x1=\"69\" y1=\"0\" x2=\"69\" y2=\"25\" />\n",
       "  <line x1=\"74\" y1=\"0\" x2=\"74\" y2=\"25\" />\n",
       "  <line x1=\"80\" y1=\"0\" x2=\"80\" y2=\"25\" />\n",
       "  <line x1=\"85\" y1=\"0\" x2=\"85\" y2=\"25\" />\n",
       "  <line x1=\"90\" y1=\"0\" x2=\"90\" y2=\"25\" />\n",
       "  <line x1=\"96\" y1=\"0\" x2=\"96\" y2=\"25\" />\n",
       "  <line x1=\"101\" y1=\"0\" x2=\"101\" y2=\"25\" />\n",
       "  <line x1=\"107\" y1=\"0\" x2=\"107\" y2=\"25\" />\n",
       "  <line x1=\"113\" y1=\"0\" x2=\"113\" y2=\"25\" />\n",
       "  <line x1=\"120\" y1=\"0\" x2=\"120\" y2=\"25\" style=\"stroke-width:2\" />\n",
       "\n",
       "  <!-- Colored Rectangle -->\n",
       "  <polygon points=\"0.000000,0.000000 120.000000,0.000000 120.000000,25.412617 0.000000,25.412617\" style=\"fill:#ECB172A0;stroke-width:0\"/>\n",
       "\n",
       "  <!-- Text -->\n",
       "  <text x=\"60.000000\" y=\"45.412617\" font-size=\"1.0rem\" font-weight=\"100\" text-anchor=\"middle\" >1433</text>\n",
       "  <text x=\"140.000000\" y=\"12.706308\" font-size=\"1.0rem\" font-weight=\"100\" text-anchor=\"middle\" transform=\"rotate(0,140.000000,12.706308)\">1</text>\n",
       "\n",
       "\n",
       "  <!-- Horizontal lines -->\n",
       "  <line x1=\"190\" y1=\"0\" x2=\"211\" y2=\"21\" style=\"stroke-width:2\" />\n",
       "  <line x1=\"190\" y1=\"44\" x2=\"211\" y2=\"65\" style=\"stroke-width:2\" />\n",
       "\n",
       "  <!-- Vertical lines -->\n",
       "  <line x1=\"190\" y1=\"0\" x2=\"190\" y2=\"44\" style=\"stroke-width:2\" />\n",
       "  <line x1=\"211\" y1=\"21\" x2=\"211\" y2=\"65\" style=\"stroke-width:2\" />\n",
       "\n",
       "  <!-- Colored Rectangle -->\n",
       "  <polygon points=\"190.000000,0.000000 211.482904,21.482904 211.482904,65.580799 190.000000,44.097895\" style=\"fill:#ECB172A0;stroke-width:0\"/>\n",
       "\n",
       "  <!-- Horizontal lines -->\n",
       "  <line x1=\"190\" y1=\"0\" x2=\"227\" y2=\"0\" style=\"stroke-width:2\" />\n",
       "  <line x1=\"211\" y1=\"21\" x2=\"249\" y2=\"21\" style=\"stroke-width:2\" />\n",
       "\n",
       "  <!-- Vertical lines -->\n",
       "  <line x1=\"190\" y1=\"0\" x2=\"211\" y2=\"21\" style=\"stroke-width:2\" />\n",
       "  <line x1=\"227\" y1=\"0\" x2=\"249\" y2=\"21\" style=\"stroke-width:2\" />\n",
       "\n",
       "  <!-- Colored Rectangle -->\n",
       "  <polygon points=\"190.000000,0.000000 227.962093,0.000000 249.444996,21.482904 211.482904,21.482904\" style=\"fill:#ECB172A0;stroke-width:0\"/>\n",
       "\n",
       "  <!-- Horizontal lines -->\n",
       "  <line x1=\"211\" y1=\"21\" x2=\"249\" y2=\"21\" style=\"stroke-width:2\" />\n",
       "  <line x1=\"211\" y1=\"65\" x2=\"249\" y2=\"65\" style=\"stroke-width:2\" />\n",
       "\n",
       "  <!-- Vertical lines -->\n",
       "  <line x1=\"211\" y1=\"21\" x2=\"211\" y2=\"65\" style=\"stroke-width:2\" />\n",
       "  <line x1=\"249\" y1=\"21\" x2=\"249\" y2=\"65\" style=\"stroke-width:2\" />\n",
       "\n",
       "  <!-- Colored Rectangle -->\n",
       "  <polygon points=\"211.482904,21.482904 249.444996,21.482904 249.444996,65.580799 211.482904,65.580799\" style=\"fill:#ECB172A0;stroke-width:0\"/>\n",
       "\n",
       "  <!-- Text -->\n",
       "  <text x=\"230.463950\" y=\"85.580799\" font-size=\"1.0rem\" font-weight=\"100\" text-anchor=\"middle\" >128</text>\n",
       "  <text x=\"269.444996\" y=\"43.531851\" font-size=\"1.0rem\" font-weight=\"100\" text-anchor=\"middle\" transform=\"rotate(-90,269.444996,43.531851)\">512</text>\n",
       "  <text x=\"190.741452\" y=\"74.839347\" font-size=\"1.0rem\" font-weight=\"100\" text-anchor=\"middle\" transform=\"rotate(45,190.741452,74.839347)\">100</text>\n",
       "</svg>\n",
       "</td>\n",
       "</tr>\n",
       "</table>"
      ],
      "text/plain": [
       "dask.array<reshape, shape=(1433, 100, 512, 128), dtype=float32, chunksize=(78, 100, 512, 128), chunktype=numpy.ndarray>"
      ]
     },
     "execution_count": 36,
     "metadata": {},
     "output_type": "execute_result"
    }
   ],
   "source": [
    "module"
   ]
  },
  {
   "cell_type": "code",
   "execution_count": 38,
   "metadata": {},
   "outputs": [
    {
     "data": {
      "text/html": [
       "<table>\n",
       "<tr>\n",
       "<td>\n",
       "<table>\n",
       "  <thead>\n",
       "    <tr><td> </td><th> Array </th><th> Chunk </th></tr>\n",
       "  </thead>\n",
       "  <tbody>\n",
       "    <tr><th> Bytes </th><td> 9.17 MB </td> <td> 499.20 kB </td></tr>\n",
       "    <tr><th> Shape </th><td> (1433, 100, 16) </td> <td> (78, 100, 16) </td></tr>\n",
       "    <tr><th> Count </th><td> 218 Tasks </td><td> 22 Chunks </td></tr>\n",
       "    <tr><th> Type </th><td> float32 </td><td> numpy.ndarray </td></tr>\n",
       "  </tbody>\n",
       "</table>\n",
       "</td>\n",
       "<td>\n",
       "<svg width=\"156\" height=\"157\" style=\"stroke:rgb(0,0,0);stroke-width:1\" >\n",
       "\n",
       "  <!-- Horizontal lines -->\n",
       "  <line x1=\"10\" y1=\"0\" x2=\"80\" y2=\"70\" style=\"stroke-width:2\" />\n",
       "  <line x1=\"10\" y1=\"36\" x2=\"80\" y2=\"107\" style=\"stroke-width:2\" />\n",
       "\n",
       "  <!-- Vertical lines -->\n",
       "  <line x1=\"10\" y1=\"0\" x2=\"10\" y2=\"36\" style=\"stroke-width:2\" />\n",
       "  <line x1=\"13\" y1=\"3\" x2=\"13\" y2=\"39\" />\n",
       "  <line x1=\"16\" y1=\"6\" x2=\"16\" y2=\"42\" />\n",
       "  <line x1=\"19\" y1=\"9\" x2=\"19\" y2=\"45\" />\n",
       "  <line x1=\"22\" y1=\"12\" x2=\"22\" y2=\"49\" />\n",
       "  <line x1=\"25\" y1=\"15\" x2=\"25\" y2=\"52\" />\n",
       "  <line x1=\"28\" y1=\"18\" x2=\"28\" y2=\"55\" />\n",
       "  <line x1=\"32\" y1=\"22\" x2=\"32\" y2=\"58\" />\n",
       "  <line x1=\"35\" y1=\"25\" x2=\"35\" y2=\"61\" />\n",
       "  <line x1=\"38\" y1=\"28\" x2=\"38\" y2=\"64\" />\n",
       "  <line x1=\"41\" y1=\"31\" x2=\"41\" y2=\"67\" />\n",
       "  <line x1=\"44\" y1=\"34\" x2=\"44\" y2=\"71\" />\n",
       "  <line x1=\"47\" y1=\"37\" x2=\"47\" y2=\"74\" />\n",
       "  <line x1=\"50\" y1=\"40\" x2=\"50\" y2=\"77\" />\n",
       "  <line x1=\"54\" y1=\"44\" x2=\"54\" y2=\"80\" />\n",
       "  <line x1=\"57\" y1=\"47\" x2=\"57\" y2=\"83\" />\n",
       "  <line x1=\"60\" y1=\"50\" x2=\"60\" y2=\"86\" />\n",
       "  <line x1=\"63\" y1=\"53\" x2=\"63\" y2=\"90\" />\n",
       "  <line x1=\"66\" y1=\"56\" x2=\"66\" y2=\"93\" />\n",
       "  <line x1=\"69\" y1=\"59\" x2=\"69\" y2=\"96\" />\n",
       "  <line x1=\"72\" y1=\"62\" x2=\"72\" y2=\"99\" />\n",
       "  <line x1=\"76\" y1=\"66\" x2=\"76\" y2=\"103\" />\n",
       "  <line x1=\"80\" y1=\"70\" x2=\"80\" y2=\"107\" style=\"stroke-width:2\" />\n",
       "\n",
       "  <!-- Colored Rectangle -->\n",
       "  <polygon points=\"10.000000,0.000000 80.588235,70.588235 80.588235,107.109171 10.000000,36.520936\" style=\"fill:#ECB172A0;stroke-width:0\"/>\n",
       "\n",
       "  <!-- Horizontal lines -->\n",
       "  <line x1=\"10\" y1=\"0\" x2=\"35\" y2=\"0\" style=\"stroke-width:2\" />\n",
       "  <line x1=\"13\" y1=\"3\" x2=\"39\" y2=\"3\" />\n",
       "  <line x1=\"16\" y1=\"6\" x2=\"42\" y2=\"6\" />\n",
       "  <line x1=\"19\" y1=\"9\" x2=\"45\" y2=\"9\" />\n",
       "  <line x1=\"22\" y1=\"12\" x2=\"48\" y2=\"12\" />\n",
       "  <line x1=\"25\" y1=\"15\" x2=\"51\" y2=\"15\" />\n",
       "  <line x1=\"28\" y1=\"18\" x2=\"54\" y2=\"18\" />\n",
       "  <line x1=\"32\" y1=\"22\" x2=\"57\" y2=\"22\" />\n",
       "  <line x1=\"35\" y1=\"25\" x2=\"61\" y2=\"25\" />\n",
       "  <line x1=\"38\" y1=\"28\" x2=\"64\" y2=\"28\" />\n",
       "  <line x1=\"41\" y1=\"31\" x2=\"67\" y2=\"31\" />\n",
       "  <line x1=\"44\" y1=\"34\" x2=\"70\" y2=\"34\" />\n",
       "  <line x1=\"47\" y1=\"37\" x2=\"73\" y2=\"37\" />\n",
       "  <line x1=\"50\" y1=\"40\" x2=\"76\" y2=\"40\" />\n",
       "  <line x1=\"54\" y1=\"44\" x2=\"80\" y2=\"44\" />\n",
       "  <line x1=\"57\" y1=\"47\" x2=\"83\" y2=\"47\" />\n",
       "  <line x1=\"60\" y1=\"50\" x2=\"86\" y2=\"50\" />\n",
       "  <line x1=\"63\" y1=\"53\" x2=\"89\" y2=\"53\" />\n",
       "  <line x1=\"66\" y1=\"56\" x2=\"92\" y2=\"56\" />\n",
       "  <line x1=\"69\" y1=\"59\" x2=\"95\" y2=\"59\" />\n",
       "  <line x1=\"72\" y1=\"62\" x2=\"98\" y2=\"62\" />\n",
       "  <line x1=\"76\" y1=\"66\" x2=\"102\" y2=\"66\" />\n",
       "  <line x1=\"80\" y1=\"70\" x2=\"106\" y2=\"70\" style=\"stroke-width:2\" />\n",
       "\n",
       "  <!-- Vertical lines -->\n",
       "  <line x1=\"10\" y1=\"0\" x2=\"80\" y2=\"70\" style=\"stroke-width:2\" />\n",
       "  <line x1=\"35\" y1=\"0\" x2=\"106\" y2=\"70\" style=\"stroke-width:2\" />\n",
       "\n",
       "  <!-- Colored Rectangle -->\n",
       "  <polygon points=\"10.000000,0.000000 35.948162,0.000000 106.536397,70.588235 80.588235,70.588235\" style=\"fill:#ECB172A0;stroke-width:0\"/>\n",
       "\n",
       "  <!-- Horizontal lines -->\n",
       "  <line x1=\"80\" y1=\"70\" x2=\"106\" y2=\"70\" style=\"stroke-width:2\" />\n",
       "  <line x1=\"80\" y1=\"107\" x2=\"106\" y2=\"107\" style=\"stroke-width:2\" />\n",
       "\n",
       "  <!-- Vertical lines -->\n",
       "  <line x1=\"80\" y1=\"70\" x2=\"80\" y2=\"107\" style=\"stroke-width:2\" />\n",
       "  <line x1=\"106\" y1=\"70\" x2=\"106\" y2=\"107\" style=\"stroke-width:2\" />\n",
       "\n",
       "  <!-- Colored Rectangle -->\n",
       "  <polygon points=\"80.588235,70.588235 106.536397,70.588235 106.536397,107.109171 80.588235,107.109171\" style=\"fill:#ECB172A0;stroke-width:0\"/>\n",
       "\n",
       "  <!-- Text -->\n",
       "  <text x=\"93.562316\" y=\"127.109171\" font-size=\"1.0rem\" font-weight=\"100\" text-anchor=\"middle\" >16</text>\n",
       "  <text x=\"126.536397\" y=\"88.848703\" font-size=\"1.0rem\" font-weight=\"100\" text-anchor=\"middle\" transform=\"rotate(-90,126.536397,88.848703)\">100</text>\n",
       "  <text x=\"35.294118\" y=\"91.815054\" font-size=\"1.0rem\" font-weight=\"100\" text-anchor=\"middle\" transform=\"rotate(45,35.294118,91.815054)\">1433</text>\n",
       "</svg>\n",
       "</td>\n",
       "</tr>\n",
       "</table>"
      ],
      "text/plain": [
       "dask.array<mean_agg-aggregate, shape=(1433, 100, 16), dtype=float32, chunksize=(78, 100, 16), chunktype=numpy.ndarray>"
      ]
     },
     "execution_count": 38,
     "metadata": {},
     "output_type": "execute_result"
    }
   ],
   "source": [
    "source = f'MID_DET_AGIPD1M-1/DET/{0}CH0:xtdf'\n",
    "pulses_per_train = run.get_data_counts(source, 'image.data').iloc[0]\n",
    "\n",
    "module = run.get_dask_array(source, 'image.data')#[:, :1]\n",
    "asics = module2asics(module)\n",
    "\n",
    "# # Make a new dimension for trains\n",
    "module = module.reshape(-1, pulses_per_train, 512, 128)\n",
    "asics = asics.reshape(-1, pulses_per_train, 16, 64, 64)\n",
    "asics.mean(axis=(-2,-1))"
   ]
  },
  {
   "cell_type": "code",
   "execution_count": 20,
   "metadata": {},
   "outputs": [],
   "source": [
    "run.trains?"
   ]
  },
  {
   "cell_type": "code",
   "execution_count": 8,
   "metadata": {},
   "outputs": [],
   "source": [
    "from extra_data import by_index, by_id"
   ]
  },
  {
   "cell_type": "code",
   "execution_count": 14,
   "metadata": {},
   "outputs": [],
   "source": [
    "ids = np.random.randint(0,len(run.train_ids), 10)"
   ]
  },
  {
   "cell_type": "code",
   "execution_count": 22,
   "metadata": {
    "collapsed": true
   },
   "outputs": [
    {
     "name": "stdout",
     "output_type": "stream",
     "text": [
      "541834040 dict_keys(['MID_DET_AGIPD1M-1/DET/10CH0:xtdf', 'MID_DET_AGIPD1M-1/DET/6CH0:xtdf', 'MID_DET_AGIPD1M-1/DET/4CH0:xtdf', 'MID_DET_AGIPD1M-1/DET/1CH0:xtdf', 'MID_DET_AGIPD1M-1/DET/9CH0:xtdf', 'MID_DET_AGIPD1M-1/DET/0CH0:xtdf', 'MID_DET_AGIPD1M-1/DET/13CH0:xtdf', 'MID_DET_AGIPD1M-1/DET/5CH0:xtdf', 'MID_DET_AGIPD1M-1/DET/15CH0:xtdf', 'MID_DET_AGIPD1M-1/DET/3CH0:xtdf', 'MID_DET_AGIPD1M-1/DET/8CH0:xtdf', 'MID_DET_AGIPD1M-1/DET/11CH0:xtdf', 'MID_DET_AGIPD1M-1/DET/12CH0:xtdf', 'MID_DET_AGIPD1M-1/DET/2CH0:xtdf', 'MID_DET_AGIPD1M-1/DET/7CH0:xtdf', 'MID_DET_AGIPD1M-1/DET/14CH0:xtdf'])\n",
      "541834042 dict_keys(['MID_DET_AGIPD1M-1/DET/10CH0:xtdf', 'MID_DET_AGIPD1M-1/DET/6CH0:xtdf', 'MID_DET_AGIPD1M-1/DET/4CH0:xtdf', 'MID_DET_AGIPD1M-1/DET/1CH0:xtdf', 'MID_DET_AGIPD1M-1/DET/9CH0:xtdf', 'MID_DET_AGIPD1M-1/DET/0CH0:xtdf', 'MID_DET_AGIPD1M-1/DET/13CH0:xtdf', 'MID_DET_AGIPD1M-1/DET/5CH0:xtdf', 'MID_DET_AGIPD1M-1/DET/15CH0:xtdf', 'MID_DET_AGIPD1M-1/DET/3CH0:xtdf', 'MID_DET_AGIPD1M-1/DET/8CH0:xtdf', 'MID_DET_AGIPD1M-1/DET/11CH0:xtdf', 'MID_DET_AGIPD1M-1/DET/12CH0:xtdf', 'MID_DET_AGIPD1M-1/DET/2CH0:xtdf', 'MID_DET_AGIPD1M-1/DET/7CH0:xtdf', 'MID_DET_AGIPD1M-1/DET/14CH0:xtdf'])\n",
      "541834106 dict_keys(['MID_DET_AGIPD1M-1/DET/10CH0:xtdf', 'MID_DET_AGIPD1M-1/DET/6CH0:xtdf', 'MID_DET_AGIPD1M-1/DET/4CH0:xtdf', 'MID_DET_AGIPD1M-1/DET/1CH0:xtdf', 'MID_DET_AGIPD1M-1/DET/9CH0:xtdf', 'MID_DET_AGIPD1M-1/DET/0CH0:xtdf', 'MID_DET_AGIPD1M-1/DET/13CH0:xtdf', 'MID_DET_AGIPD1M-1/DET/5CH0:xtdf', 'MID_DET_AGIPD1M-1/DET/15CH0:xtdf', 'MID_DET_AGIPD1M-1/DET/3CH0:xtdf', 'MID_DET_AGIPD1M-1/DET/8CH0:xtdf', 'MID_DET_AGIPD1M-1/DET/11CH0:xtdf', 'MID_DET_AGIPD1M-1/DET/12CH0:xtdf', 'MID_DET_AGIPD1M-1/DET/2CH0:xtdf', 'MID_DET_AGIPD1M-1/DET/7CH0:xtdf', 'MID_DET_AGIPD1M-1/DET/14CH0:xtdf'])\n",
      "541834121 dict_keys(['MID_DET_AGIPD1M-1/DET/10CH0:xtdf', 'MID_DET_AGIPD1M-1/DET/6CH0:xtdf', 'MID_DET_AGIPD1M-1/DET/4CH0:xtdf', 'MID_DET_AGIPD1M-1/DET/1CH0:xtdf', 'MID_DET_AGIPD1M-1/DET/9CH0:xtdf', 'MID_DET_AGIPD1M-1/DET/0CH0:xtdf', 'MID_DET_AGIPD1M-1/DET/13CH0:xtdf', 'MID_DET_AGIPD1M-1/DET/5CH0:xtdf', 'MID_DET_AGIPD1M-1/DET/15CH0:xtdf', 'MID_DET_AGIPD1M-1/DET/3CH0:xtdf', 'MID_DET_AGIPD1M-1/DET/8CH0:xtdf', 'MID_DET_AGIPD1M-1/DET/11CH0:xtdf', 'MID_DET_AGIPD1M-1/DET/12CH0:xtdf', 'MID_DET_AGIPD1M-1/DET/2CH0:xtdf', 'MID_DET_AGIPD1M-1/DET/7CH0:xtdf', 'MID_DET_AGIPD1M-1/DET/14CH0:xtdf'])\n",
      "541834121 dict_keys(['MID_DET_AGIPD1M-1/DET/10CH0:xtdf', 'MID_DET_AGIPD1M-1/DET/6CH0:xtdf', 'MID_DET_AGIPD1M-1/DET/4CH0:xtdf', 'MID_DET_AGIPD1M-1/DET/1CH0:xtdf', 'MID_DET_AGIPD1M-1/DET/9CH0:xtdf', 'MID_DET_AGIPD1M-1/DET/0CH0:xtdf', 'MID_DET_AGIPD1M-1/DET/13CH0:xtdf', 'MID_DET_AGIPD1M-1/DET/5CH0:xtdf', 'MID_DET_AGIPD1M-1/DET/15CH0:xtdf', 'MID_DET_AGIPD1M-1/DET/3CH0:xtdf', 'MID_DET_AGIPD1M-1/DET/8CH0:xtdf', 'MID_DET_AGIPD1M-1/DET/11CH0:xtdf', 'MID_DET_AGIPD1M-1/DET/12CH0:xtdf', 'MID_DET_AGIPD1M-1/DET/2CH0:xtdf', 'MID_DET_AGIPD1M-1/DET/7CH0:xtdf', 'MID_DET_AGIPD1M-1/DET/14CH0:xtdf'])\n",
      "541834295 dict_keys(['MID_DET_AGIPD1M-1/DET/10CH0:xtdf', 'MID_DET_AGIPD1M-1/DET/6CH0:xtdf', 'MID_DET_AGIPD1M-1/DET/4CH0:xtdf', 'MID_DET_AGIPD1M-1/DET/1CH0:xtdf', 'MID_DET_AGIPD1M-1/DET/9CH0:xtdf', 'MID_DET_AGIPD1M-1/DET/0CH0:xtdf', 'MID_DET_AGIPD1M-1/DET/13CH0:xtdf', 'MID_DET_AGIPD1M-1/DET/5CH0:xtdf', 'MID_DET_AGIPD1M-1/DET/15CH0:xtdf', 'MID_DET_AGIPD1M-1/DET/3CH0:xtdf', 'MID_DET_AGIPD1M-1/DET/8CH0:xtdf', 'MID_DET_AGIPD1M-1/DET/11CH0:xtdf', 'MID_DET_AGIPD1M-1/DET/12CH0:xtdf', 'MID_DET_AGIPD1M-1/DET/2CH0:xtdf', 'MID_DET_AGIPD1M-1/DET/7CH0:xtdf', 'MID_DET_AGIPD1M-1/DET/14CH0:xtdf'])\n"
     ]
    },
    {
     "ename": "KeyboardInterrupt",
     "evalue": "",
     "output_type": "error",
     "traceback": [
      "\u001b[0;31m---------------------------------------------------------------------------\u001b[0m",
      "\u001b[0;31mKeyboardInterrupt\u001b[0m                         Traceback (most recent call last)",
      "\u001b[0;32m<ipython-input-22-d8f068f3788b>\u001b[0m in \u001b[0;36m<module>\u001b[0;34m\u001b[0m\n\u001b[0;32m----> 1\u001b[0;31m \u001b[0;32mfor\u001b[0m \u001b[0mtrain_id\u001b[0m\u001b[0;34m,\u001b[0m \u001b[0mdata\u001b[0m \u001b[0;32min\u001b[0m \u001b[0mrun\u001b[0m\u001b[0;34m.\u001b[0m\u001b[0mtrains\u001b[0m\u001b[0;34m(\u001b[0m\u001b[0mdevices\u001b[0m\u001b[0;34m=\u001b[0m\u001b[0;34m\"*/DET/*\"\u001b[0m\u001b[0;34m,\u001b[0m \u001b[0mtrain_range\u001b[0m\u001b[0;34m=\u001b[0m\u001b[0mby_index\u001b[0m\u001b[0;34m[\u001b[0m\u001b[0mids\u001b[0m\u001b[0;34m]\u001b[0m\u001b[0;34m,\u001b[0m \u001b[0mrequire_all\u001b[0m\u001b[0;34m=\u001b[0m\u001b[0;32mTrue\u001b[0m\u001b[0;34m)\u001b[0m\u001b[0;34m:\u001b[0m\u001b[0;34m\u001b[0m\u001b[0;34m\u001b[0m\u001b[0m\n\u001b[0m\u001b[1;32m      2\u001b[0m     \u001b[0mprint\u001b[0m\u001b[0;34m(\u001b[0m\u001b[0mtrain_id\u001b[0m\u001b[0;34m,\u001b[0m \u001b[0mdata\u001b[0m\u001b[0;34m.\u001b[0m\u001b[0mkeys\u001b[0m\u001b[0;34m(\u001b[0m\u001b[0;34m)\u001b[0m\u001b[0;34m)\u001b[0m\u001b[0;34m\u001b[0m\u001b[0;34m\u001b[0m\u001b[0m\n",
      "\u001b[0;32m/software/anaconda3/5.2/lib/python3.6/site-packages/extra_data/reader.py\u001b[0m in \u001b[0;36m__iter__\u001b[0;34m(self)\u001b[0m\n\u001b[1;32m   1325\u001b[0m             \u001b[0;32mif\u001b[0m \u001b[0mself\u001b[0m\u001b[0;34m.\u001b[0m\u001b[0mrequire_all\u001b[0m \u001b[0;32mand\u001b[0m \u001b[0mself\u001b[0m\u001b[0;34m.\u001b[0m\u001b[0mdata\u001b[0m\u001b[0;34m.\u001b[0m\u001b[0m_check_data_missing\u001b[0m\u001b[0;34m(\u001b[0m\u001b[0mtid\u001b[0m\u001b[0;34m)\u001b[0m\u001b[0;34m:\u001b[0m\u001b[0;34m\u001b[0m\u001b[0;34m\u001b[0m\u001b[0m\n\u001b[1;32m   1326\u001b[0m                 \u001b[0;32mcontinue\u001b[0m\u001b[0;34m\u001b[0m\u001b[0;34m\u001b[0m\u001b[0m\n\u001b[0;32m-> 1327\u001b[0;31m             \u001b[0;32myield\u001b[0m \u001b[0mtid\u001b[0m\u001b[0;34m,\u001b[0m \u001b[0mself\u001b[0m\u001b[0;34m.\u001b[0m\u001b[0m_assemble_data\u001b[0m\u001b[0;34m(\u001b[0m\u001b[0mtid\u001b[0m\u001b[0;34m)\u001b[0m\u001b[0;34m\u001b[0m\u001b[0;34m\u001b[0m\u001b[0m\n\u001b[0m\u001b[1;32m   1328\u001b[0m \u001b[0;34m\u001b[0m\u001b[0m\n\u001b[1;32m   1329\u001b[0m \u001b[0;34m\u001b[0m\u001b[0m\n",
      "\u001b[0;32m/software/anaconda3/5.2/lib/python3.6/site-packages/extra_data/reader.py\u001b[0m in \u001b[0;36m_assemble_data\u001b[0;34m(self, tid)\u001b[0m\n\u001b[1;32m   1316\u001b[0m                     \u001b[0msource_data\u001b[0m\u001b[0;34m[\u001b[0m\u001b[0mkey\u001b[0m\u001b[0;34m]\u001b[0m \u001b[0;34m=\u001b[0m \u001b[0mds\u001b[0m\u001b[0;34m[\u001b[0m\u001b[0mfirst\u001b[0m\u001b[0;34m]\u001b[0m\u001b[0;34m\u001b[0m\u001b[0;34m\u001b[0m\u001b[0m\n\u001b[1;32m   1317\u001b[0m                 \u001b[0;32melse\u001b[0m\u001b[0;34m:\u001b[0m\u001b[0;34m\u001b[0m\u001b[0;34m\u001b[0m\u001b[0m\n\u001b[0;32m-> 1318\u001b[0;31m                     \u001b[0msource_data\u001b[0m\u001b[0;34m[\u001b[0m\u001b[0mkey\u001b[0m\u001b[0;34m]\u001b[0m \u001b[0;34m=\u001b[0m \u001b[0mds\u001b[0m\u001b[0;34m[\u001b[0m\u001b[0mfirst\u001b[0m \u001b[0;34m:\u001b[0m \u001b[0mfirst\u001b[0m \u001b[0;34m+\u001b[0m \u001b[0mcount\u001b[0m\u001b[0;34m]\u001b[0m\u001b[0;34m\u001b[0m\u001b[0;34m\u001b[0m\u001b[0m\n\u001b[0m\u001b[1;32m   1319\u001b[0m \u001b[0;34m\u001b[0m\u001b[0m\n\u001b[1;32m   1320\u001b[0m         \u001b[0;32mreturn\u001b[0m \u001b[0mres\u001b[0m\u001b[0;34m\u001b[0m\u001b[0;34m\u001b[0m\u001b[0m\n",
      "\u001b[0;32mh5py/_objects.pyx\u001b[0m in \u001b[0;36mh5py._objects.with_phil.wrapper\u001b[0;34m()\u001b[0m\n",
      "\u001b[0;32mh5py/_objects.pyx\u001b[0m in \u001b[0;36mh5py._objects.with_phil.wrapper\u001b[0;34m()\u001b[0m\n",
      "\u001b[0;32m~/.local/lib/python3.6/site-packages/h5py/_hl/dataset.py\u001b[0m in \u001b[0;36m__getitem__\u001b[0;34m(self, args)\u001b[0m\n\u001b[1;32m    571\u001b[0m         \u001b[0mmspace\u001b[0m \u001b[0;34m=\u001b[0m \u001b[0mh5s\u001b[0m\u001b[0;34m.\u001b[0m\u001b[0mcreate_simple\u001b[0m\u001b[0;34m(\u001b[0m\u001b[0mmshape\u001b[0m\u001b[0;34m)\u001b[0m\u001b[0;34m\u001b[0m\u001b[0;34m\u001b[0m\u001b[0m\n\u001b[1;32m    572\u001b[0m         \u001b[0mfspace\u001b[0m \u001b[0;34m=\u001b[0m \u001b[0mselection\u001b[0m\u001b[0;34m.\u001b[0m\u001b[0mid\u001b[0m\u001b[0;34m\u001b[0m\u001b[0;34m\u001b[0m\u001b[0m\n\u001b[0;32m--> 573\u001b[0;31m         \u001b[0mself\u001b[0m\u001b[0;34m.\u001b[0m\u001b[0mid\u001b[0m\u001b[0;34m.\u001b[0m\u001b[0mread\u001b[0m\u001b[0;34m(\u001b[0m\u001b[0mmspace\u001b[0m\u001b[0;34m,\u001b[0m \u001b[0mfspace\u001b[0m\u001b[0;34m,\u001b[0m \u001b[0marr\u001b[0m\u001b[0;34m,\u001b[0m \u001b[0mmtype\u001b[0m\u001b[0;34m,\u001b[0m \u001b[0mdxpl\u001b[0m\u001b[0;34m=\u001b[0m\u001b[0mself\u001b[0m\u001b[0;34m.\u001b[0m\u001b[0m_dxpl\u001b[0m\u001b[0;34m)\u001b[0m\u001b[0;34m\u001b[0m\u001b[0;34m\u001b[0m\u001b[0m\n\u001b[0m\u001b[1;32m    574\u001b[0m \u001b[0;34m\u001b[0m\u001b[0m\n\u001b[1;32m    575\u001b[0m         \u001b[0;31m# Patch up the output for NumPy\u001b[0m\u001b[0;34m\u001b[0m\u001b[0;34m\u001b[0m\u001b[0;34m\u001b[0m\u001b[0m\n",
      "\u001b[0;31mKeyboardInterrupt\u001b[0m: "
     ]
    }
   ],
   "source": [
    "for train_id, data in run.trains(devices=\"*/DET/*\", train_range=by_index[ids], require_all=True):\n",
    "    print(train_id, data.keys())"
   ]
  },
  {
   "cell_type": "code",
   "execution_count": 116,
   "metadata": {},
   "outputs": [
    {
     "name": "stdout",
     "output_type": "stream",
     "text": [
      "found 15 corrupted trains\n",
      "[541834032 541834092 541834212 541834392 541834512 541834532 541834632\n",
      " 541834732 541834852 541834872 541834992 541835112 541835212 541835252\n",
      " 541835352]\n"
     ]
    }
   ],
   "source": [
    "corrupted_trains = []\n",
    "for i in range(16):\n",
    "    source = f'MID_DET_AGIPD1M-1/DET/{i}CH0:xtdf'\n",
    "    datcounts = run.get_data_counts(source, 'image.data')\n",
    "    corrupted_trains.extend(datcounts[datcounts==0].index.values)\n",
    "    \n",
    "corrupted_trains = np.unique(corrupted_trains)\n",
    "print(f\"found {len(corrupted_trains)} corrupted trains\")\n",
    "print(corrupted_trains)"
   ]
  },
  {
   "cell_type": "code",
   "execution_count": 178,
   "metadata": {},
   "outputs": [
    {
     "name": "stdout",
     "output_type": "stream",
     "text": [
      "found 15 corrupted trains\n",
      "[541834032 541834092 541834212 541834392 541834512 541834532 541834632\n",
      " 541834732 541834852 541834872 541834992 541835112 541835212 541835252\n",
      " 541835352]\n"
     ]
    }
   ],
   "source": [
    "mod_train_ids = run.get_dataframe(fields=[('*/DET/*', 'trailer.trainId')])\n",
    "\n",
    "corrupted_trains = mod_train_ids[mod_train_ids.isna().sum(1)>0].index.values\n",
    "print(f\"found {len(corrupted_trains)} corrupted trains\")\n",
    "print(corrupted_trains)\n",
    "\n",
    "mod_train_ids.reset_index(level=0, inplace=True)\n",
    "mod_train_ids.rename(columns={\"index\": \"train_id\"}, inplace=True)\n",
    "# mod_train_ids.dropna(axis=0, inplace=True)"
   ]
  },
  {
   "cell_type": "code",
   "execution_count": 204,
   "metadata": {},
   "outputs": [
    {
     "data": {
      "text/plain": [
       "13"
      ]
     },
     "execution_count": 204,
     "metadata": {},
     "output_type": "execute_result"
    }
   ],
   "source": [
    "sum(df.isin(corrupted_trains))"
   ]
  },
  {
   "cell_type": "code",
   "execution_count": 207,
   "metadata": {},
   "outputs": [],
   "source": [
    "full_trains = []\n",
    "for i in range(16):\n",
    "    col = f'MID_DET_AGIPD1M-1/DET/{i}CH0:xtdf/trailer.trainId'\n",
    "    df = mod_train_ids[col].dropna(axis=0).reset_index(drop=True)\n",
    "    full_trains.append(np.where(~df.isin(corrupted_trains))[0])\n",
    "#     full_trains.append(np.where())"
   ]
  },
  {
   "cell_type": "code",
   "execution_count": 227,
   "metadata": {},
   "outputs": [],
   "source": [
    "import dask.dataframe as dd"
   ]
  },
  {
   "cell_type": "code",
   "execution_count": 228,
   "metadata": {},
   "outputs": [
    {
     "data": {
      "text/plain": [
       "array([0, 0, 0, 0, 1, 1, 1, 1, 2, 2, 2, 2, 3, 3, 3, 3])"
      ]
     },
     "execution_count": 228,
     "metadata": {},
     "output_type": "execute_result"
    }
   ],
   "source": [
    "np.repeat(np.arange(4), 4)"
   ]
  },
  {
   "cell_type": "code",
   "execution_count": 226,
   "metadata": {
    "hide_input": false
   },
   "outputs": [
    {
     "name": "stdout",
     "output_type": "stream",
     "text": [
      "Found 100 pulses per train, bad trains: 2\n",
      "Found 100 pulses per train, bad trains: 0\n",
      "Found 100 pulses per train, bad trains: 2\n",
      "Found 100 pulses per train, bad trains: 2\n",
      "Found 100 pulses per train, bad trains: 0\n",
      "Found 100 pulses per train, bad trains: 0\n",
      "Found 100 pulses per train, bad trains: 0\n",
      "Found 100 pulses per train, bad trains: 0\n",
      "Found 100 pulses per train, bad trains: 3\n",
      "Found 100 pulses per train, bad trains: 1\n",
      "Found 100 pulses per train, bad trains: 2\n",
      "Found 100 pulses per train, bad trains: 1\n",
      "Found 100 pulses per train, bad trains: 0\n",
      "Found 100 pulses per train, bad trains: 2\n",
      "Found 100 pulses per train, bad trains: 0\n",
      "Found 100 pulses per train, bad trains: 4\n"
     ]
    },
    {
     "ename": "KeyboardInterrupt",
     "evalue": "",
     "output_type": "error",
     "traceback": [
      "\u001b[0;31m---------------------------------------------------------------------------\u001b[0m",
      "\u001b[0;31mKeyboardInterrupt\u001b[0m                         Traceback (most recent call last)",
      "\u001b[0;32m<ipython-input-226-58119e1ea89c>\u001b[0m in \u001b[0;36m<module>\u001b[0;34m\u001b[0m\n\u001b[1;32m     26\u001b[0m         \u001b[0;32mfor\u001b[0m \u001b[0mi\u001b[0m \u001b[0;32min\u001b[0m \u001b[0mrange\u001b[0m\u001b[0;34m(\u001b[0m\u001b[0;36m16\u001b[0m\u001b[0;34m)\u001b[0m\u001b[0;34m\u001b[0m\u001b[0;34m\u001b[0m\u001b[0m\n\u001b[1;32m     27\u001b[0m     ])\n\u001b[0;32m---> 28\u001b[0;31m     \u001b[0mall_average\u001b[0m\u001b[0;34m.\u001b[0m\u001b[0mcompute\u001b[0m\u001b[0;34m(\u001b[0m\u001b[0;34m)\u001b[0m\u001b[0;34m\u001b[0m\u001b[0;34m\u001b[0m\u001b[0m\n\u001b[0m",
      "\u001b[0;32m/software/anaconda3/5.2/lib/python3.6/site-packages/dask/base.py\u001b[0m in \u001b[0;36mcompute\u001b[0;34m(self, **kwargs)\u001b[0m\n\u001b[1;32m    173\u001b[0m         \u001b[0mdask\u001b[0m\u001b[0;34m.\u001b[0m\u001b[0mbase\u001b[0m\u001b[0;34m.\u001b[0m\u001b[0mcompute\u001b[0m\u001b[0;34m\u001b[0m\u001b[0;34m\u001b[0m\u001b[0m\n\u001b[1;32m    174\u001b[0m         \"\"\"\n\u001b[0;32m--> 175\u001b[0;31m         \u001b[0;34m(\u001b[0m\u001b[0mresult\u001b[0m\u001b[0;34m,\u001b[0m\u001b[0;34m)\u001b[0m \u001b[0;34m=\u001b[0m \u001b[0mcompute\u001b[0m\u001b[0;34m(\u001b[0m\u001b[0mself\u001b[0m\u001b[0;34m,\u001b[0m \u001b[0mtraverse\u001b[0m\u001b[0;34m=\u001b[0m\u001b[0;32mFalse\u001b[0m\u001b[0;34m,\u001b[0m \u001b[0;34m**\u001b[0m\u001b[0mkwargs\u001b[0m\u001b[0;34m)\u001b[0m\u001b[0;34m\u001b[0m\u001b[0;34m\u001b[0m\u001b[0m\n\u001b[0m\u001b[1;32m    176\u001b[0m         \u001b[0;32mreturn\u001b[0m \u001b[0mresult\u001b[0m\u001b[0;34m\u001b[0m\u001b[0;34m\u001b[0m\u001b[0m\n\u001b[1;32m    177\u001b[0m \u001b[0;34m\u001b[0m\u001b[0m\n",
      "\u001b[0;32m/software/anaconda3/5.2/lib/python3.6/site-packages/dask/base.py\u001b[0m in \u001b[0;36mcompute\u001b[0;34m(*args, **kwargs)\u001b[0m\n\u001b[1;32m    444\u001b[0m     \u001b[0mkeys\u001b[0m \u001b[0;34m=\u001b[0m \u001b[0;34m[\u001b[0m\u001b[0mx\u001b[0m\u001b[0;34m.\u001b[0m\u001b[0m__dask_keys__\u001b[0m\u001b[0;34m(\u001b[0m\u001b[0;34m)\u001b[0m \u001b[0;32mfor\u001b[0m \u001b[0mx\u001b[0m \u001b[0;32min\u001b[0m \u001b[0mcollections\u001b[0m\u001b[0;34m]\u001b[0m\u001b[0;34m\u001b[0m\u001b[0;34m\u001b[0m\u001b[0m\n\u001b[1;32m    445\u001b[0m     \u001b[0mpostcomputes\u001b[0m \u001b[0;34m=\u001b[0m \u001b[0;34m[\u001b[0m\u001b[0mx\u001b[0m\u001b[0;34m.\u001b[0m\u001b[0m__dask_postcompute__\u001b[0m\u001b[0;34m(\u001b[0m\u001b[0;34m)\u001b[0m \u001b[0;32mfor\u001b[0m \u001b[0mx\u001b[0m \u001b[0;32min\u001b[0m \u001b[0mcollections\u001b[0m\u001b[0;34m]\u001b[0m\u001b[0;34m\u001b[0m\u001b[0;34m\u001b[0m\u001b[0m\n\u001b[0;32m--> 446\u001b[0;31m     \u001b[0mresults\u001b[0m \u001b[0;34m=\u001b[0m \u001b[0mschedule\u001b[0m\u001b[0;34m(\u001b[0m\u001b[0mdsk\u001b[0m\u001b[0;34m,\u001b[0m \u001b[0mkeys\u001b[0m\u001b[0;34m,\u001b[0m \u001b[0;34m**\u001b[0m\u001b[0mkwargs\u001b[0m\u001b[0;34m)\u001b[0m\u001b[0;34m\u001b[0m\u001b[0;34m\u001b[0m\u001b[0m\n\u001b[0m\u001b[1;32m    447\u001b[0m     \u001b[0;32mreturn\u001b[0m \u001b[0mrepack\u001b[0m\u001b[0;34m(\u001b[0m\u001b[0;34m[\u001b[0m\u001b[0mf\u001b[0m\u001b[0;34m(\u001b[0m\u001b[0mr\u001b[0m\u001b[0;34m,\u001b[0m \u001b[0;34m*\u001b[0m\u001b[0ma\u001b[0m\u001b[0;34m)\u001b[0m \u001b[0;32mfor\u001b[0m \u001b[0mr\u001b[0m\u001b[0;34m,\u001b[0m \u001b[0;34m(\u001b[0m\u001b[0mf\u001b[0m\u001b[0;34m,\u001b[0m \u001b[0ma\u001b[0m\u001b[0;34m)\u001b[0m \u001b[0;32min\u001b[0m \u001b[0mzip\u001b[0m\u001b[0;34m(\u001b[0m\u001b[0mresults\u001b[0m\u001b[0;34m,\u001b[0m \u001b[0mpostcomputes\u001b[0m\u001b[0;34m)\u001b[0m\u001b[0;34m]\u001b[0m\u001b[0;34m)\u001b[0m\u001b[0;34m\u001b[0m\u001b[0;34m\u001b[0m\u001b[0m\n\u001b[1;32m    448\u001b[0m \u001b[0;34m\u001b[0m\u001b[0m\n",
      "\u001b[0;32m/software/anaconda3/5.2/lib/python3.6/site-packages/distributed/client.py\u001b[0m in \u001b[0;36mget\u001b[0;34m(self, dsk, keys, restrictions, loose_restrictions, resources, sync, asynchronous, direct, retries, priority, fifo_timeout, actors, **kwargs)\u001b[0m\n\u001b[1;32m   2518\u001b[0m                     \u001b[0mshould_rejoin\u001b[0m \u001b[0;34m=\u001b[0m \u001b[0;32mFalse\u001b[0m\u001b[0;34m\u001b[0m\u001b[0;34m\u001b[0m\u001b[0m\n\u001b[1;32m   2519\u001b[0m             \u001b[0;32mtry\u001b[0m\u001b[0;34m:\u001b[0m\u001b[0;34m\u001b[0m\u001b[0;34m\u001b[0m\u001b[0m\n\u001b[0;32m-> 2520\u001b[0;31m                 \u001b[0mresults\u001b[0m \u001b[0;34m=\u001b[0m \u001b[0mself\u001b[0m\u001b[0;34m.\u001b[0m\u001b[0mgather\u001b[0m\u001b[0;34m(\u001b[0m\u001b[0mpacked\u001b[0m\u001b[0;34m,\u001b[0m \u001b[0masynchronous\u001b[0m\u001b[0;34m=\u001b[0m\u001b[0masynchronous\u001b[0m\u001b[0;34m,\u001b[0m \u001b[0mdirect\u001b[0m\u001b[0;34m=\u001b[0m\u001b[0mdirect\u001b[0m\u001b[0;34m)\u001b[0m\u001b[0;34m\u001b[0m\u001b[0;34m\u001b[0m\u001b[0m\n\u001b[0m\u001b[1;32m   2521\u001b[0m             \u001b[0;32mfinally\u001b[0m\u001b[0;34m:\u001b[0m\u001b[0;34m\u001b[0m\u001b[0;34m\u001b[0m\u001b[0m\n\u001b[1;32m   2522\u001b[0m                 \u001b[0;32mfor\u001b[0m \u001b[0mf\u001b[0m \u001b[0;32min\u001b[0m \u001b[0mfutures\u001b[0m\u001b[0;34m.\u001b[0m\u001b[0mvalues\u001b[0m\u001b[0;34m(\u001b[0m\u001b[0;34m)\u001b[0m\u001b[0;34m:\u001b[0m\u001b[0;34m\u001b[0m\u001b[0;34m\u001b[0m\u001b[0m\n",
      "\u001b[0;32m/software/anaconda3/5.2/lib/python3.6/site-packages/distributed/client.py\u001b[0m in \u001b[0;36mgather\u001b[0;34m(self, futures, errors, direct, asynchronous)\u001b[0m\n\u001b[1;32m   1818\u001b[0m                 \u001b[0mdirect\u001b[0m\u001b[0;34m=\u001b[0m\u001b[0mdirect\u001b[0m\u001b[0;34m,\u001b[0m\u001b[0;34m\u001b[0m\u001b[0;34m\u001b[0m\u001b[0m\n\u001b[1;32m   1819\u001b[0m                 \u001b[0mlocal_worker\u001b[0m\u001b[0;34m=\u001b[0m\u001b[0mlocal_worker\u001b[0m\u001b[0;34m,\u001b[0m\u001b[0;34m\u001b[0m\u001b[0;34m\u001b[0m\u001b[0m\n\u001b[0;32m-> 1820\u001b[0;31m                 \u001b[0masynchronous\u001b[0m\u001b[0;34m=\u001b[0m\u001b[0masynchronous\u001b[0m\u001b[0;34m,\u001b[0m\u001b[0;34m\u001b[0m\u001b[0;34m\u001b[0m\u001b[0m\n\u001b[0m\u001b[1;32m   1821\u001b[0m             )\n\u001b[1;32m   1822\u001b[0m \u001b[0;34m\u001b[0m\u001b[0m\n",
      "\u001b[0;32m/software/anaconda3/5.2/lib/python3.6/site-packages/distributed/client.py\u001b[0m in \u001b[0;36msync\u001b[0;34m(self, func, asynchronous, callback_timeout, *args, **kwargs)\u001b[0m\n\u001b[1;32m    752\u001b[0m         \u001b[0;32melse\u001b[0m\u001b[0;34m:\u001b[0m\u001b[0;34m\u001b[0m\u001b[0;34m\u001b[0m\u001b[0m\n\u001b[1;32m    753\u001b[0m             return sync(\n\u001b[0;32m--> 754\u001b[0;31m                 \u001b[0mself\u001b[0m\u001b[0;34m.\u001b[0m\u001b[0mloop\u001b[0m\u001b[0;34m,\u001b[0m \u001b[0mfunc\u001b[0m\u001b[0;34m,\u001b[0m \u001b[0;34m*\u001b[0m\u001b[0margs\u001b[0m\u001b[0;34m,\u001b[0m \u001b[0mcallback_timeout\u001b[0m\u001b[0;34m=\u001b[0m\u001b[0mcallback_timeout\u001b[0m\u001b[0;34m,\u001b[0m \u001b[0;34m**\u001b[0m\u001b[0mkwargs\u001b[0m\u001b[0;34m\u001b[0m\u001b[0;34m\u001b[0m\u001b[0m\n\u001b[0m\u001b[1;32m    755\u001b[0m             )\n\u001b[1;32m    756\u001b[0m \u001b[0;34m\u001b[0m\u001b[0m\n",
      "\u001b[0;32m/software/anaconda3/5.2/lib/python3.6/site-packages/distributed/utils.py\u001b[0m in \u001b[0;36msync\u001b[0;34m(loop, func, callback_timeout, *args, **kwargs)\u001b[0m\n\u001b[1;32m    332\u001b[0m     \u001b[0;32melse\u001b[0m\u001b[0;34m:\u001b[0m\u001b[0;34m\u001b[0m\u001b[0;34m\u001b[0m\u001b[0m\n\u001b[1;32m    333\u001b[0m         \u001b[0;32mwhile\u001b[0m \u001b[0;32mnot\u001b[0m \u001b[0me\u001b[0m\u001b[0;34m.\u001b[0m\u001b[0mis_set\u001b[0m\u001b[0;34m(\u001b[0m\u001b[0;34m)\u001b[0m\u001b[0;34m:\u001b[0m\u001b[0;34m\u001b[0m\u001b[0;34m\u001b[0m\u001b[0m\n\u001b[0;32m--> 334\u001b[0;31m             \u001b[0me\u001b[0m\u001b[0;34m.\u001b[0m\u001b[0mwait\u001b[0m\u001b[0;34m(\u001b[0m\u001b[0;36m10\u001b[0m\u001b[0;34m)\u001b[0m\u001b[0;34m\u001b[0m\u001b[0;34m\u001b[0m\u001b[0m\n\u001b[0m\u001b[1;32m    335\u001b[0m     \u001b[0;32mif\u001b[0m \u001b[0merror\u001b[0m\u001b[0;34m[\u001b[0m\u001b[0;36m0\u001b[0m\u001b[0;34m]\u001b[0m\u001b[0;34m:\u001b[0m\u001b[0;34m\u001b[0m\u001b[0;34m\u001b[0m\u001b[0m\n\u001b[1;32m    336\u001b[0m         \u001b[0mtyp\u001b[0m\u001b[0;34m,\u001b[0m \u001b[0mexc\u001b[0m\u001b[0;34m,\u001b[0m \u001b[0mtb\u001b[0m \u001b[0;34m=\u001b[0m \u001b[0merror\u001b[0m\u001b[0;34m[\u001b[0m\u001b[0;36m0\u001b[0m\u001b[0;34m]\u001b[0m\u001b[0;34m\u001b[0m\u001b[0;34m\u001b[0m\u001b[0m\n",
      "\u001b[0;32m/software/anaconda3/5.2/lib/python3.6/threading.py\u001b[0m in \u001b[0;36mwait\u001b[0;34m(self, timeout)\u001b[0m\n\u001b[1;32m    549\u001b[0m             \u001b[0msignaled\u001b[0m \u001b[0;34m=\u001b[0m \u001b[0mself\u001b[0m\u001b[0;34m.\u001b[0m\u001b[0m_flag\u001b[0m\u001b[0;34m\u001b[0m\u001b[0;34m\u001b[0m\u001b[0m\n\u001b[1;32m    550\u001b[0m             \u001b[0;32mif\u001b[0m \u001b[0;32mnot\u001b[0m \u001b[0msignaled\u001b[0m\u001b[0;34m:\u001b[0m\u001b[0;34m\u001b[0m\u001b[0;34m\u001b[0m\u001b[0m\n\u001b[0;32m--> 551\u001b[0;31m                 \u001b[0msignaled\u001b[0m \u001b[0;34m=\u001b[0m \u001b[0mself\u001b[0m\u001b[0;34m.\u001b[0m\u001b[0m_cond\u001b[0m\u001b[0;34m.\u001b[0m\u001b[0mwait\u001b[0m\u001b[0;34m(\u001b[0m\u001b[0mtimeout\u001b[0m\u001b[0;34m)\u001b[0m\u001b[0;34m\u001b[0m\u001b[0;34m\u001b[0m\u001b[0m\n\u001b[0m\u001b[1;32m    552\u001b[0m             \u001b[0;32mreturn\u001b[0m \u001b[0msignaled\u001b[0m\u001b[0;34m\u001b[0m\u001b[0;34m\u001b[0m\u001b[0m\n\u001b[1;32m    553\u001b[0m \u001b[0;34m\u001b[0m\u001b[0m\n",
      "\u001b[0;32m/software/anaconda3/5.2/lib/python3.6/threading.py\u001b[0m in \u001b[0;36mwait\u001b[0;34m(self, timeout)\u001b[0m\n\u001b[1;32m    297\u001b[0m             \u001b[0;32melse\u001b[0m\u001b[0;34m:\u001b[0m\u001b[0;34m\u001b[0m\u001b[0;34m\u001b[0m\u001b[0m\n\u001b[1;32m    298\u001b[0m                 \u001b[0;32mif\u001b[0m \u001b[0mtimeout\u001b[0m \u001b[0;34m>\u001b[0m \u001b[0;36m0\u001b[0m\u001b[0;34m:\u001b[0m\u001b[0;34m\u001b[0m\u001b[0;34m\u001b[0m\u001b[0m\n\u001b[0;32m--> 299\u001b[0;31m                     \u001b[0mgotit\u001b[0m \u001b[0;34m=\u001b[0m \u001b[0mwaiter\u001b[0m\u001b[0;34m.\u001b[0m\u001b[0macquire\u001b[0m\u001b[0;34m(\u001b[0m\u001b[0;32mTrue\u001b[0m\u001b[0;34m,\u001b[0m \u001b[0mtimeout\u001b[0m\u001b[0;34m)\u001b[0m\u001b[0;34m\u001b[0m\u001b[0;34m\u001b[0m\u001b[0m\n\u001b[0m\u001b[1;32m    300\u001b[0m                 \u001b[0;32melse\u001b[0m\u001b[0;34m:\u001b[0m\u001b[0;34m\u001b[0m\u001b[0;34m\u001b[0m\u001b[0m\n\u001b[1;32m    301\u001b[0m                     \u001b[0mgotit\u001b[0m \u001b[0;34m=\u001b[0m \u001b[0mwaiter\u001b[0m\u001b[0;34m.\u001b[0m\u001b[0macquire\u001b[0m\u001b[0;34m(\u001b[0m\u001b[0;32mFalse\u001b[0m\u001b[0;34m)\u001b[0m\u001b[0;34m\u001b[0m\u001b[0;34m\u001b[0m\u001b[0m\n",
      "\u001b[0;31mKeyboardInterrupt\u001b[0m: "
     ]
    }
   ],
   "source": [
    "def average_module(modno, run, pulses_per_train=None, full_trains=None):\n",
    "    source = f'MID_DET_AGIPD1M-1/DET/{modno}CH0:xtdf'\n",
    "    if pulses_per_train is None:\n",
    "        counts = run.get_data_counts(source, 'image.data')\n",
    "        pulses_per_train = counts.max()\n",
    "        bad_trains = len(counts[counts==0])\n",
    "        print(f\"Found {pulses_per_train} pulses per train, bad trains: {bad_trains}\")\n",
    "            \n",
    "    module = run.get_dask_array(source, 'image.data')\n",
    "    if full_trains is not None:\n",
    "        train_indices = full_trains[modno]\n",
    "        module = module.reshape(-1, pulses_per_train, 512, 128)\n",
    "        module = module[train_indices]\n",
    "        module = module.reshape(-1, 512, 128)\n",
    "\n",
    "    asics = module2asics(module)\n",
    "    \n",
    "    # # Make a new dimension for trains\n",
    "    module = module.reshape(-1, pulses_per_train, 512, 128)\n",
    "    asics = asics.reshape(-1, pulses_per_train, 16, 64 * 64)\n",
    "    \n",
    "    average = asics.mean(axis=-1)\n",
    "    variance = asics.var(axis=-1)\n",
    "    \n",
    "    modn = np\n",
    "    \n",
    "    return \n",
    "\n",
    "# with Client(cluster):\n",
    "#     all_average = da.stack([\n",
    "#         average_module(i, run, full_trains=full_trains)\n",
    "#         for i in range(16)\n",
    "#     ])\n",
    "#     all_average.compute()\n",
    "    \n",
    "with Client(cluster):\n",
    "    all_average = da.stack([\n",
    "        average_module(i, run, full_trains=full_trains)\n",
    "        for i in range(16)\n",
    "    ])\n",
    "    all_average.compute()"
   ]
  },
  {
   "cell_type": "code",
   "execution_count": 45,
   "metadata": {},
   "outputs": [
    {
     "data": {
      "text/plain": [
       "1435"
      ]
     },
     "execution_count": 45,
     "metadata": {},
     "output_type": "execute_result"
    }
   ],
   "source": [
    "len(run.train_ids)"
   ]
  },
  {
   "cell_type": "code",
   "execution_count": 116,
   "metadata": {},
   "outputs": [
    {
     "name": "stdout",
     "output_type": "stream",
     "text": [
      "found 15 corrupted trains\n",
      "[541834032 541834092 541834212 541834392 541834512 541834532 541834632\n",
      " 541834732 541834852 541834872 541834992 541835112 541835212 541835252\n",
      " 541835352]\n"
     ]
    }
   ],
   "source": [
    "corrupted_trains = []\n",
    "for i in range(16):\n",
    "    source = f'MID_DET_AGIPD1M-1/DET/{i}CH0:xtdf'\n",
    "    datcounts = run.get_data_counts(source, 'image.data')\n",
    "    corrupted_trains.extend(datcounts[datcounts==0].index.values)\n",
    "    \n",
    "corrupted_trains = np.unique(corrupted_trains)\n",
    "print(f\"found {len(corrupted_trains)} corrupted trains\")\n",
    "print(corrupted_trains)"
   ]
  },
  {
   "cell_type": "code",
   "execution_count": null,
   "metadata": {},
   "outputs": [],
   "source": []
  },
  {
   "cell_type": "code",
   "execution_count": null,
   "metadata": {},
   "outputs": [],
   "source": []
  },
  {
   "cell_type": "code",
   "execution_count": null,
   "metadata": {},
   "outputs": [],
   "source": []
  },
  {
   "cell_type": "code",
   "execution_count": 75,
   "metadata": {},
   "outputs": [],
   "source": [
    "client.close()"
   ]
  },
  {
   "cell_type": "code",
   "execution_count": null,
   "metadata": {},
   "outputs": [],
   "source": []
  }
 ],
 "metadata": {
  "hide_input": false,
  "kernelspec": {
   "display_name": "Python 3",
   "language": "python",
   "name": "python3"
  },
  "language_info": {
   "codemirror_mode": {
    "name": "ipython",
    "version": 3
   },
   "file_extension": ".py",
   "mimetype": "text/x-python",
   "name": "python",
   "nbconvert_exporter": "python",
   "pygments_lexer": "ipython3",
   "version": "3.6.7"
  },
  "toc": {
   "base_numbering": 1,
   "nav_menu": {},
   "number_sections": true,
   "sideBar": true,
   "skip_h1_title": false,
   "title_cell": "Table of Contents",
   "title_sidebar": "Contents",
   "toc_cell": false,
   "toc_position": {
    "height": "1157.64697265625px",
    "left": "130px",
    "top": "138.47425842285156px",
    "width": "220.90072631835938px"
   },
   "toc_section_display": true,
   "toc_window_display": true
  },
  "varInspector": {
   "cols": {
    "lenName": 16,
    "lenType": 16,
    "lenVar": 40
   },
   "kernels_config": {
    "python": {
     "delete_cmd_postfix": "",
     "delete_cmd_prefix": "del ",
     "library": "var_list.py",
     "varRefreshCmd": "print(var_dic_list())"
    },
    "r": {
     "delete_cmd_postfix": ") ",
     "delete_cmd_prefix": "rm(",
     "library": "var_list.r",
     "varRefreshCmd": "cat(var_dic_list()) "
    }
   },
   "types_to_exclude": [
    "module",
    "function",
    "builtin_function_or_method",
    "instance",
    "_Feature"
   ],
   "window_display": false
  }
 },
 "nbformat": 4,
 "nbformat_minor": 2
}
